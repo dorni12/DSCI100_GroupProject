{
 "cells": [
  {
   "cell_type": "markdown",
   "id": "9bac75e8-23b4-4dd0-94c3-04c3d3f8b68f",
   "metadata": {},
   "source": [
    "Introduction --> Felix;\n",
    "Preliminary exploratory data analysis --> Hannah/Tushar;\n",
    "Methods --> Hannah/Tushar;\n",
    "Expected outcomes and significance --> Felisa"
   ]
  },
  {
   "cell_type": "code",
   "execution_count": null,
   "id": "2ffb632c-7d1e-465c-a2dc-9184301ed292",
   "metadata": {},
   "outputs": [],
   "source": []
  }
 ],
 "metadata": {
  "kernelspec": {
   "display_name": "Python 3 (ipykernel)",
   "language": "python",
   "name": "python3"
  },
  "language_info": {
   "codemirror_mode": {
    "name": "ipython",
    "version": 3
   },
   "file_extension": ".py",
   "mimetype": "text/x-python",
   "name": "python",
   "nbconvert_exporter": "python",
   "pygments_lexer": "ipython3",
   "version": "3.8.17"
  }
 },
 "nbformat": 4,
 "nbformat_minor": 5
}
